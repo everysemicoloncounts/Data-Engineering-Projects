{
 "cells": [
  {
   "cell_type": "code",
   "execution_count": 0,
   "metadata": {
    "application/vnd.databricks.v1+cell": {
     "cellMetadata": {
      "byteLimit": 2048000,
      "rowLimit": 10000
     },
     "inputWidgets": {},
     "nuid": "44c5664a-abe6-4952-a6a6-e04afbedd33e",
     "showTitle": false,
     "title": ""
    }
   },
   "outputs": [],
   "source": [
    "from pyspark.sql import SparkSession\n",
    "import uuid\n",
    "from pyspark.sql.functions import udf, lit, monotonically_increasing_id\n",
    "from pyspark.sql.types import StringType\n",
    "from pyspark.sql.functions import year, month, dayofmonth, hour, minute, second\n",
    "from pyspark.sql.functions import format_string, lpad\n",
    "from pyspark.sql import functions as F"
   ]
  },
  {
   "cell_type": "markdown",
   "metadata": {
    "application/vnd.databricks.v1+cell": {
     "cellMetadata": {
      "byteLimit": 2048000,
      "rowLimit": 10000
     },
     "inputWidgets": {},
     "nuid": "675ccae0-704d-4b83-b43e-7ca5e56fe248",
     "showTitle": false,
     "title": ""
    }
   },
   "source": [
    "Importing the files and creating the first DataFrame"
   ]
  },
  {
   "cell_type": "code",
   "execution_count": 0,
   "metadata": {
    "application/vnd.databricks.v1+cell": {
     "cellMetadata": {
      "byteLimit": 2048000,
      "rowLimit": 10000
     },
     "inputWidgets": {},
     "nuid": "80205d53-da87-45a5-a1a3-6eee3dd1f882",
     "showTitle": false,
     "title": ""
    }
   },
   "outputs": [
    {
     "output_type": "stream",
     "name": "stdout",
     "output_type": "stream",
     "text": [
      "+--------+--------------------+---------------------+---------------+-------------+------------------+------------------+----------+------------------+------------------+------------------+------------+-----------+-----+-------+----------+------------+---------------------+------------+\n|VendorID|tpep_pickup_datetime|tpep_dropoff_datetime|passenger_count|trip_distance|  pickup_longitude|   pickup_latitude|RatecodeID|store_and_fwd_flag| dropoff_longitude|  dropoff_latitude|payment_type|fare_amount|extra|mta_tax|tip_amount|tolls_amount|improvement_surcharge|total_amount|\n+--------+--------------------+---------------------+---------------+-------------+------------------+------------------+----------+------------------+------------------+------------------+------------+-----------+-----+-------+----------+------------+---------------------+------------+\n|       1| 2016-03-01 00:00:00|  2016-03-01 00:07:55|              1|          2.5|-73.97674560546875|40.765151977539055|         1|                 N|-74.00426483154298| 40.74612808227539|           1|        9.0|  0.5|    0.5|      2.05|         0.0|                  0.3|       12.35|\n|       1| 2016-03-01 00:00:00|  2016-03-01 00:11:06|              1|          2.9|-73.98348236083984|40.767925262451165|         1|                 N|-74.00594329833984|  40.7331657409668|           1|       11.0|  0.5|    0.5|      3.05|         0.0|                  0.3|       15.35|\n|       2| 2016-03-01 00:00:00|  2016-03-01 00:31:06|              2|        19.98|-73.78202056884764| 40.64480972290039|         1|                 N|-73.97454071044923|  40.6757698059082|           1|       54.5|  0.5|    0.5|       8.0|         0.0|                  0.3|        63.8|\n|       2| 2016-03-01 00:00:00|  2016-03-01 00:00:00|              3|        10.78|-73.86341857910156|40.769813537597656|         1|                 N|-73.96965026855469|40.757766723632805|           1|       31.5|  0.0|    0.5|      3.78|        5.54|                  0.3|       41.62|\n|       2| 2016-03-01 00:00:00|  2016-03-01 00:00:00|              5|        30.43|-73.97174072265625| 40.79218292236328|         3|                 N|-74.17716979980467| 40.69505310058594|           1|       98.0|  0.0|    0.0|       0.0|        15.5|                  0.3|       113.8|\n+--------+--------------------+---------------------+---------------+-------------+------------------+------------------+----------+------------------+------------------+------------------+------------+-----------+-----+-------+----------+------------+---------------------+------------+\nonly showing top 5 rows\n\nOut[2]: 100000"
     ]
    }
   ],
   "source": [
    "df_main = spark.read.format(\"csv\").option(\"header\", \"true\").load(\"dbfs:/FileStore/shared_uploads/gouravpratap.202cd006@nitk.edu.in/cab_data.csv\")\n",
    "df_main.show(5)\n",
    "df_main.count()"
   ]
  },
  {
   "cell_type": "markdown",
   "metadata": {
    "application/vnd.databricks.v1+cell": {
     "cellMetadata": {
      "byteLimit": 2048000,
      "rowLimit": 10000
     },
     "inputWidgets": {},
     "nuid": "ce2d5e14-b9b0-46ca-899f-470d59d33347",
     "showTitle": false,
     "title": ""
    }
   },
   "source": [
    "Dropping the Duplicates"
   ]
  },
  {
   "cell_type": "code",
   "execution_count": 0,
   "metadata": {
    "application/vnd.databricks.v1+cell": {
     "cellMetadata": {
      "byteLimit": 2048000,
      "rowLimit": 10000
     },
     "inputWidgets": {},
     "nuid": "b4768ffd-0b7f-4ebc-a984-4b7e88e3f631",
     "showTitle": false,
     "title": ""
    }
   },
   "outputs": [
    {
     "output_type": "stream",
     "name": "stdout",
     "output_type": "stream",
     "text": [
      "+-------+--------+--------------------+---------------------+---------------+-------------+------------------+------------------+----------+------------------+------------------+-----------------+------------+-----------+-----+-------+----------+------------+---------------------+------------+\n|trip_id|VendorID|tpep_pickup_datetime|tpep_dropoff_datetime|passenger_count|trip_distance|  pickup_longitude|   pickup_latitude|RatecodeID|store_and_fwd_flag| dropoff_longitude| dropoff_latitude|payment_type|fare_amount|extra|mta_tax|tip_amount|tolls_amount|improvement_surcharge|total_amount|\n+-------+--------+--------------------+---------------------+---------------+-------------+------------------+------------------+----------+------------------+------------------+-----------------+------------+-----------+-----+-------+----------+------------+---------------------+------------+\n|      0|       2| 2016-03-10 07:12:57|  2016-03-10 07:37:33|              4|         5.17|-73.99210357666014| 40.68429565429688|         1|                 N| -74.0073013305664|40.74828720092773|           1|       20.5|  0.0|    0.5|      4.26|         0.0|                  0.3|       25.56|\n|      1|       2| 2016-03-10 07:17:02|  2016-03-10 07:41:10|              2|         5.24|-73.91310119628906|40.746089935302734|         1|                 N|-73.98751068115233|    40.7529296875|           1|       21.0|  0.0|    0.5|       3.0|         0.0|                  0.3|        24.8|\n|      2|       2| 2016-03-10 07:17:10|  2016-03-10 07:27:38|              3|         1.67|-73.96404266357422| 40.76549530029297|         1|                 N|-73.95700073242188|40.76502990722656|           1|        9.0|  0.0|    0.5|      2.45|         0.0|                  0.3|       12.25|\n|      3|       2| 2016-03-10 07:19:40|  2016-03-10 07:30:33|              1|          1.3|-73.97695922851561|40.775028228759766|         1|                 N| -73.9722900390625|40.76259994506836|           2|        8.5|  0.0|    0.5|       0.0|         0.0|                  0.3|         9.3|\n|      4|       2| 2016-03-10 07:21:37|  2016-03-10 07:36:20|              1|         3.41|-73.96170806884764| 40.75973892211913|         1|                 N|-73.98794555664062|40.74559783935546|           1|       14.0|  0.0|    0.5|      2.96|         0.0|                  0.3|       17.76|\n+-------+--------+--------------------+---------------------+---------------+-------------+------------------+------------------+----------+------------------+------------------+-----------------+------------+-----------+-----+-------+----------+------------+---------------------+------------+\nonly showing top 5 rows\n\nOut[3]: 100000"
     ]
    }
   ],
   "source": [
    "df_unique = df_main.drop_duplicates()\n",
    "\n",
    "df_unique = df_unique.withColumn(\"trip_id\", monotonically_increasing_id())\n",
    "# Reorder columns to make '_id' the first column\n",
    "df_unique = df_unique.select('trip_id', *[col for col in df_unique.columns if col != 'trip_id'])\n",
    "\n",
    "df_unique.show(5)\n",
    "df_unique.count()"
   ]
  },
  {
   "cell_type": "markdown",
   "metadata": {
    "application/vnd.databricks.v1+cell": {
     "cellMetadata": {
      "byteLimit": 2048000,
      "rowLimit": 10000
     },
     "inputWidgets": {},
     "nuid": "d9d0dda4-2201-461d-9ca8-141ae2ff113a",
     "showTitle": false,
     "title": ""
    }
   },
   "source": [
    "Creating the Passanger Data Frame(RDD)"
   ]
  },
  {
   "cell_type": "code",
   "execution_count": 0,
   "metadata": {
    "application/vnd.databricks.v1+cell": {
     "cellMetadata": {
      "byteLimit": 2048000,
      "rowLimit": 10000
     },
     "inputWidgets": {},
     "nuid": "7183d5ec-859a-4bcb-9ed4-13e9cc7944c7",
     "showTitle": false,
     "title": ""
    }
   },
   "outputs": [
    {
     "output_type": "stream",
     "name": "stdout",
     "output_type": "stream",
     "text": [
      "+------------+---------------+\n|passenger_id|passenger_count|\n+------------+---------------+\n|           0|              4|\n|           1|              2|\n|           2|              3|\n|           3|              1|\n|           4|              1|\n+------------+---------------+\nonly showing top 5 rows\n\nOut[4]: 100000"
     ]
    }
   ],
   "source": [
    "df_Passenger = df_unique.select('trip_id')\n",
    "df_Passenger = df_Passenger.withColumnRenamed(\"trip_id\", \"passenger_id\")\n",
    "df_Passenger = df_Passenger.join(df_unique, df_unique[\"trip_id\"] == df_Passenger[\"passenger_id\"], \"inner\")\n",
    "\n",
    "df_Passenger = df_Passenger.select('passenger_id', 'passenger_count')\n",
    "df_Passenger.show(5)\n",
    "df_Passenger.count()"
   ]
  },
  {
   "cell_type": "markdown",
   "metadata": {
    "application/vnd.databricks.v1+cell": {
     "cellMetadata": {
      "byteLimit": 2048000,
      "rowLimit": 10000
     },
     "inputWidgets": {},
     "nuid": "a242cc44-2d69-408d-938d-4894b9f9d397",
     "showTitle": false,
     "title": ""
    }
   },
   "source": [
    "Creating the tripDistance Dataframe (RDD)"
   ]
  },
  {
   "cell_type": "code",
   "execution_count": 0,
   "metadata": {
    "application/vnd.databricks.v1+cell": {
     "cellMetadata": {
      "byteLimit": 2048000,
      "rowLimit": 10000
     },
     "inputWidgets": {},
     "nuid": "71887538-e227-454a-83e9-d91019613146",
     "showTitle": false,
     "title": ""
    }
   },
   "outputs": [
    {
     "output_type": "stream",
     "name": "stdout",
     "output_type": "stream",
     "text": [
      "+----------------+-------------+\n|trip_distance_id|trip_distance|\n+----------------+-------------+\n|               0|         5.17|\n|               1|         5.24|\n|               2|         1.67|\n|               3|          1.3|\n|               4|         3.41|\n+----------------+-------------+\nonly showing top 5 rows\n\nOut[5]: 100000"
     ]
    }
   ],
   "source": [
    "df_tripDistance = df_unique.select('trip_id')\n",
    "df_tripDistance = df_tripDistance.withColumnRenamed(\"trip_id\", \"trip_distance_id\")\n",
    "df_tripDistance = df_tripDistance.join(df_unique, df_unique[\"trip_id\"] == df_tripDistance[\"trip_distance_id\"], \"inner\")\n",
    "\n",
    "df_tripDistance = df_tripDistance.select('trip_distance_id', 'trip_distance')\n",
    "\n",
    "df_tripDistance.show(5)\n",
    "df_tripDistance.count()"
   ]
  },
  {
   "cell_type": "markdown",
   "metadata": {
    "application/vnd.databricks.v1+cell": {
     "cellMetadata": {
      "byteLimit": 2048000,
      "rowLimit": 10000
     },
     "inputWidgets": {},
     "nuid": "e7e56755-a23f-4531-ae38-cbb92f3bd634",
     "showTitle": false,
     "title": ""
    }
   },
   "source": [
    "Creating the rateCode dimension table."
   ]
  },
  {
   "cell_type": "code",
   "execution_count": 0,
   "metadata": {
    "application/vnd.databricks.v1+cell": {
     "cellMetadata": {
      "byteLimit": 2048000,
      "rowLimit": 10000
     },
     "inputWidgets": {},
     "nuid": "d41f3578-3166-4e4e-9026-1b45b5161d28",
     "showTitle": false,
     "title": ""
    }
   },
   "outputs": [
    {
     "output_type": "stream",
     "name": "stdout",
     "output_type": "stream",
     "text": [
      "+-----------+----------+-------------+\n|rateCode_id|RatecodeID| rateCodeName|\n+-----------+----------+-------------+\n|          0|         1|Standard Rate|\n|          1|         1|Standard Rate|\n|          2|         1|Standard Rate|\n|          3|         1|Standard Rate|\n|          4|         1|Standard Rate|\n+-----------+----------+-------------+\nonly showing top 5 rows\n\nOut[6]: 100000"
     ]
    }
   ],
   "source": [
    "# making a hash map for O(1) search and insert\n",
    "rate_code_type = {\n",
    "    1: \"Standard Rate\",\n",
    "    2: \"JFK\",\n",
    "    3: \"Newark\",\n",
    "    4: \"Nassau or Westchester\",\n",
    "    5: \"Negotiated fare\",\n",
    "    6: \"Group ride\"\n",
    "}\n",
    "\n",
    "# making a user defined functions for getting the values from the above hashmap\n",
    "def map_ratecode(ratecode):\n",
    "    return rate_code_type.get(int(ratecode))\n",
    "\n",
    "# defining the user defined function\n",
    "map_ratecode_udf = udf(map_ratecode, StringType())\n",
    "\n",
    "# creating the dataframe\n",
    "dfRateCode = df_unique.select('trip_id')\n",
    "dfRateCode = dfRateCode.withColumnRenamed(\"trip_id\", \"rateCode_id\")\n",
    "dfRateCode = dfRateCode.join(df_unique, df_unique[\"trip_id\"] == dfRateCode[\"rateCode_id\"], \"inner\")\n",
    "\n",
    "# Create new column 'rateCodeName'\n",
    "dfRateCode = dfRateCode.withColumn(\"rateCodeName\", map_ratecode_udf(dfRateCode[\"RatecodeID\"]))\n",
    "# Reorder columns to make '_id' the first column\n",
    "dfRateCode = dfRateCode.select('rateCode_id', *[col for col in dfRateCode.columns if col != 'rateCode_id'])\n",
    "\n",
    "dfRateCode = dfRateCode.select('rateCode_id', 'RatecodeID', 'rateCodeName')\n",
    "\n",
    "dfRateCode.show(5)\n",
    "dfRateCode.count()"
   ]
  },
  {
   "cell_type": "markdown",
   "metadata": {
    "application/vnd.databricks.v1+cell": {
     "cellMetadata": {
      "byteLimit": 2048000,
      "rowLimit": 10000
     },
     "inputWidgets": {},
     "nuid": "f7472fad-93df-4093-a29c-6fc4689178d5",
     "showTitle": false,
     "title": ""
    }
   },
   "source": [
    "Creating the paymentMode dimension table"
   ]
  },
  {
   "cell_type": "code",
   "execution_count": 0,
   "metadata": {
    "application/vnd.databricks.v1+cell": {
     "cellMetadata": {
      "byteLimit": 2048000,
      "rowLimit": 10000
     },
     "inputWidgets": {},
     "nuid": "0290b70c-b734-4cb6-adae-f9f143c131be",
     "showTitle": false,
     "title": ""
    }
   },
   "outputs": [
    {
     "output_type": "stream",
     "name": "stdout",
     "output_type": "stream",
     "text": [
      "+----------+------------+---------------+\n|payment_id|payment_type|paymentCodeName|\n+----------+------------+---------------+\n|         0|           1|  Standard Rate|\n|         1|           1|  Standard Rate|\n|         2|           1|  Standard Rate|\n|         3|           2|            JFK|\n|         4|           1|  Standard Rate|\n+----------+------------+---------------+\nonly showing top 5 rows\n\nOut[7]: 100000"
     ]
    }
   ],
   "source": [
    "payment_type_name = {\n",
    "    1: \"Credit card\",\n",
    "    2: \"Cash\",\n",
    "    3: \"No charge\",\n",
    "    4: \"Dispute\",\n",
    "    5: \"Unknown\",\n",
    "    6: \"Voided trip\"\n",
    "}\n",
    "\n",
    "def map_payment(paymentCode):\n",
    "    return payment_type_name.get(int(paymentCode))\n",
    "\n",
    "map_payment_udf = udf(map_payment, StringType())\n",
    "\n",
    "dfPayment = df_unique.select('trip_id')\n",
    "dfPayment = dfPayment.withColumnRenamed(\"trip_id\", \"payment_id\")\n",
    "dfPayment = dfPayment.join(df_unique, df_unique[\"trip_id\"] == dfPayment[\"payment_id\"], \"inner\")\n",
    "dfPayment = dfPayment.withColumn(\"paymentCodeName\", map_payment_udf(dfPayment['payment_type']))\n",
    "\n",
    "dfPayment = dfPayment.withColumn(\"paymentCodeName\", map_ratecode_udf(dfPayment[\"payment_type\"]))\n",
    "# Reorder columns to make '_id' the first column\n",
    "dfPayment = dfPayment.select('payment_id', *[col for col in dfPayment.columns if col != 'payment_id'])\n",
    "\n",
    "dfPayment = dfPayment.select('payment_id', 'payment_type', 'paymentCodeName')\n",
    "\n",
    "dfPayment.show(5)\n",
    "dfPayment.count()"
   ]
  },
  {
   "cell_type": "markdown",
   "metadata": {
    "application/vnd.databricks.v1+cell": {
     "cellMetadata": {
      "byteLimit": 2048000,
      "rowLimit": 10000
     },
     "inputWidgets": {},
     "nuid": "733fbbcd-bada-4f4d-a5ee-9f6605b05e1b",
     "showTitle": false,
     "title": ""
    }
   },
   "source": [
    "Creating the pickUp Dimension Table"
   ]
  },
  {
   "cell_type": "code",
   "execution_count": 0,
   "metadata": {
    "application/vnd.databricks.v1+cell": {
     "cellMetadata": {
      "byteLimit": 2048000,
      "rowLimit": 10000
     },
     "inputWidgets": {},
     "nuid": "0f253356-a4b0-4358-84ac-f07d873309cb",
     "showTitle": false,
     "title": ""
    }
   },
   "outputs": [
    {
     "output_type": "stream",
     "name": "stdout",
     "output_type": "stream",
     "text": [
      "+---------+------------------+------------------+\n|pickup_id|  pickup_longitude|   pickup_latitude|\n+---------+------------------+------------------+\n|        0|-73.99210357666014| 40.68429565429688|\n|        1|-73.91310119628906|40.746089935302734|\n|        2|-73.96404266357422| 40.76549530029297|\n|        3|-73.97695922851561|40.775028228759766|\n|        4|-73.96170806884764| 40.75973892211913|\n+---------+------------------+------------------+\nonly showing top 5 rows\n\nOut[8]: 100000"
     ]
    }
   ],
   "source": [
    "dfPickupDim = df_unique.select('trip_id')\n",
    "dfPickupDim = dfPickupDim.withColumnRenamed(\"trip_id\", \"pickup_id\")\n",
    "dfPickupDim = dfPickupDim.join(df_unique, df_unique[\"trip_id\"] == dfPickupDim[\"pickup_id\"], \"inner\")\n",
    "\n",
    "dfPickupDim = dfPickupDim.select('pickup_id', 'pickup_longitude', 'pickup_latitude')\n",
    "\n",
    "dfPickupDim.show(5)\n",
    "dfPickupDim.count()"
   ]
  },
  {
   "cell_type": "markdown",
   "metadata": {
    "application/vnd.databricks.v1+cell": {
     "cellMetadata": {
      "byteLimit": 2048000,
      "rowLimit": 10000
     },
     "inputWidgets": {},
     "nuid": "7c6f7513-200d-4fd1-a21d-b980f65086ff",
     "showTitle": false,
     "title": ""
    }
   },
   "source": [
    "Creating DropOff Dimesion Table"
   ]
  },
  {
   "cell_type": "code",
   "execution_count": 0,
   "metadata": {
    "application/vnd.databricks.v1+cell": {
     "cellMetadata": {
      "byteLimit": 2048000,
      "rowLimit": 10000
     },
     "inputWidgets": {},
     "nuid": "95001a1b-64c9-4ddf-a6ec-2966f4034a7c",
     "showTitle": false,
     "title": ""
    }
   },
   "outputs": [
    {
     "output_type": "stream",
     "name": "stdout",
     "output_type": "stream",
     "text": [
      "+----------+------------------+-----------------+\n|dropoff_id| dropoff_longitude| dropoff_latitude|\n+----------+------------------+-----------------+\n|         0| -74.0073013305664|40.74828720092773|\n|         1|-73.98751068115233|    40.7529296875|\n|         2|-73.95700073242188|40.76502990722656|\n|         3| -73.9722900390625|40.76259994506836|\n|         4|-73.98794555664062|40.74559783935546|\n+----------+------------------+-----------------+\nonly showing top 5 rows\n\nOut[9]: 100000"
     ]
    }
   ],
   "source": [
    "dfDropOffDim = df_unique.select('trip_id')\n",
    "dfDropOffDim = dfDropOffDim.withColumnRenamed(\"trip_id\", \"dropoff_id\")\n",
    "dfDropOffDim = dfDropOffDim.join(df_unique, df_unique[\"trip_id\"] == dfDropOffDim[\"dropoff_id\"], \"inner\")\n",
    "\n",
    "dfDropOffDim = dfDropOffDim.select('dropoff_id','dropoff_longitude','dropoff_latitude')\n",
    "\n",
    "dfDropOffDim.show(5)\n",
    "dfDropOffDim.count()"
   ]
  },
  {
   "cell_type": "markdown",
   "metadata": {
    "application/vnd.databricks.v1+cell": {
     "cellMetadata": {
      "byteLimit": 2048000,
      "rowLimit": 10000
     },
     "inputWidgets": {},
     "nuid": "df6eada4-ac1f-4912-8ed1-6c7e08e0d56d",
     "showTitle": false,
     "title": ""
    }
   },
   "source": [
    "Creating DateTime Dimension Table"
   ]
  },
  {
   "cell_type": "code",
   "execution_count": 0,
   "metadata": {
    "application/vnd.databricks.v1+cell": {
     "cellMetadata": {
      "byteLimit": 2048000,
      "rowLimit": 10000
     },
     "inputWidgets": {},
     "nuid": "e3d3992c-3347-4a9a-9df9-49953ba8ce04",
     "showTitle": false,
     "title": ""
    }
   },
   "outputs": [
    {
     "output_type": "stream",
     "name": "stdout",
     "output_type": "stream",
     "text": [
      "+-----------+--------------------+---------------------+-----------+------------+----------+-----------+-------------+-------------+------------+-------------+-----------+------------+--------------+--------------+\n|dateTime_id|tpep_pickup_datetime|tpep_dropoff_datetime|pickup_year|pickup_month|pickup_day|pickup_hour|pickup_minute|pickup_second|dropoff_year|dropoff_month|dropoff_day|dropoff_hour|dropoff_minute|dropoff_second|\n+-----------+--------------------+---------------------+-----------+------------+----------+-----------+-------------+-------------+------------+-------------+-----------+------------+--------------+--------------+\n|          0| 2016-03-10 07:12:57|  2016-03-10 07:37:33|       2016|           3|        10|         07|           12|           57|        2016|            3|         10|          07|            37|            33|\n|          1| 2016-03-10 07:17:02|  2016-03-10 07:41:10|       2016|           3|        10|         07|           17|           02|        2016|            3|         10|          07|            41|            10|\n|          2| 2016-03-10 07:17:10|  2016-03-10 07:27:38|       2016|           3|        10|         07|           17|           10|        2016|            3|         10|          07|            27|            38|\n|          3| 2016-03-10 07:19:40|  2016-03-10 07:30:33|       2016|           3|        10|         07|           19|           40|        2016|            3|         10|          07|            30|            33|\n|          4| 2016-03-10 07:21:37|  2016-03-10 07:36:20|       2016|           3|        10|         07|           21|           37|        2016|            3|         10|          07|            36|            20|\n+-----------+--------------------+---------------------+-----------+------------+----------+-----------+-------------+-------------+------------+-------------+-----------+------------+--------------+--------------+\nonly showing top 5 rows\n\nOut[10]: 100000"
     ]
    }
   ],
   "source": [
    "dfDateTimeDimension = df_unique.select('trip_id')\n",
    "dfDateTimeDimension = dfDateTimeDimension.withColumnRenamed(\"trip_id\", \"dateTime_id\")\n",
    "dfDateTimeDimension = dfDateTimeDimension.join(df_unique, df_unique[\"trip_id\"] == dfDateTimeDimension[\"dateTime_id\"], \"inner\")\n",
    "dfDateTimeDimension = dfDateTimeDimension.select('dateTime_id', 'tpep_pickup_datetime', 'tpep_dropoff_datetime')\n",
    "\n",
    "dfDateTimeDimension = dfDateTimeDimension.withColumn(\"pickup_year\", year(\"tpep_pickup_datetime\"))\n",
    "dfDateTimeDimension = dfDateTimeDimension.withColumn(\"pickup_month\", month(\"tpep_pickup_datetime\"))\n",
    "dfDateTimeDimension = dfDateTimeDimension.withColumn(\"pickup_day\", dayofmonth(\"tpep_pickup_datetime\"))\n",
    "dfDateTimeDimension = dfDateTimeDimension.withColumn(\"pickup_hour\",format_string(\"%02d\", hour(\"tpep_pickup_datetime\")))\n",
    "dfDateTimeDimension = dfDateTimeDimension.withColumn(\"pickup_minute\", format_string(\"%02d\", minute(\"tpep_pickup_datetime\")))\n",
    "dfDateTimeDimension = dfDateTimeDimension.withColumn(\"pickup_second\", format_string(\"%02d\", second(\"tpep_pickup_datetime\")))\n",
    "\n",
    "dfDateTimeDimension = dfDateTimeDimension.withColumn(\"dropoff_year\", year(\"tpep_dropoff_datetime\"))\n",
    "dfDateTimeDimension = dfDateTimeDimension.withColumn(\"dropoff_month\", month(\"tpep_dropoff_datetime\"))\n",
    "dfDateTimeDimension = dfDateTimeDimension.withColumn(\"dropoff_day\", dayofmonth(\"tpep_dropoff_datetime\"))\n",
    "dfDateTimeDimension = dfDateTimeDimension.withColumn(\"dropoff_hour\", format_string(\"%02d\", hour(\"tpep_dropoff_datetime\")))\n",
    "dfDateTimeDimension = dfDateTimeDimension.withColumn(\"dropoff_minute\", format_string(\"%02d\", minute(\"tpep_dropoff_datetime\")))\n",
    "dfDateTimeDimension = dfDateTimeDimension.withColumn(\"dropoff_second\", format_string(\"%02d\", second(\"tpep_dropoff_datetime\")))\n",
    "\n",
    "dfDateTimeDimension.show(5)\n",
    "dfDateTimeDimension.count()"
   ]
  },
  {
   "cell_type": "markdown",
   "metadata": {
    "application/vnd.databricks.v1+cell": {
     "cellMetadata": {
      "byteLimit": 2048000,
      "rowLimit": 10000
     },
     "inputWidgets": {},
     "nuid": "4e87721f-33cb-4b63-b580-73d08af0532a",
     "showTitle": false,
     "title": ""
    }
   },
   "source": [
    "Creating the fact table and joining the above created Dimension tables"
   ]
  },
  {
   "cell_type": "code",
   "execution_count": 0,
   "metadata": {
    "application/vnd.databricks.v1+cell": {
     "cellMetadata": {
      "byteLimit": 2048000,
      "rowLimit": 10000
     },
     "inputWidgets": {},
     "nuid": "b0867b3d-1e04-4346-a3c8-56c76e8e85f7",
     "showTitle": false,
     "title": ""
    }
   },
   "outputs": [
    {
     "output_type": "stream",
     "name": "stdout",
     "output_type": "stream",
     "text": [
      "+-------+--------+-----------+------------+----------------+-----------+------------------+---------+----------+----------+-----------+-----+-------+----------+------------+---------------------+------------+\n|trip_id|VendorID|datetime_id|passenger_id|trip_distance_id|rateCode_id|store_and_fwd_flag|pickup_id|dropoff_id|payment_id|fare_amount|extra|mta_tax|tip_amount|tolls_amount|improvement_surcharge|total_amount|\n+-------+--------+-----------+------------+----------------+-----------+------------------+---------+----------+----------+-----------+-----+-------+----------+------------+---------------------+------------+\n|      0|       2|          0|           0|               0|          0|                 N|        0|         0|         0|       20.5|  0.0|    0.5|      4.26|         0.0|                  0.3|       25.56|\n|      1|       2|          1|           1|               1|          1|                 N|        1|         1|         1|       21.0|  0.0|    0.5|       3.0|         0.0|                  0.3|        24.8|\n|      2|       2|          2|           2|               2|          2|                 N|        2|         2|         2|        9.0|  0.0|    0.5|      2.45|         0.0|                  0.3|       12.25|\n|      3|       2|          3|           3|               3|          3|                 N|        3|         3|         3|        8.5|  0.0|    0.5|       0.0|         0.0|                  0.3|         9.3|\n|      4|       2|          4|           4|               4|          4|                 N|        4|         4|         4|       14.0|  0.0|    0.5|      2.96|         0.0|                  0.3|       17.76|\n+-------+--------+-----------+------------+----------------+-----------+------------------+---------+----------+----------+-----------+-----+-------+----------+------------+---------------------+------------+\nonly showing top 5 rows\n\nOut[11]: 100000"
     ]
    }
   ],
   "source": [
    "# Joining and selecting columns\n",
    "fact_table = df_unique.join(df_Passenger, df_unique['trip_id'] == df_Passenger['passenger_id'], \"inner\") \\\n",
    "               .join(df_tripDistance, df_unique['trip_id'] == df_tripDistance['trip_distance_id'], \"inner\") \\\n",
    "               .join(dfRateCode, df_unique['trip_id'] == dfRateCode['rateCode_id'], \"inner\") \\\n",
    "               .join(dfPickupDim, df_unique['trip_id'] == dfPickupDim['pickup_id'], \"inner\") \\\n",
    "               .join(dfDropOffDim, df_unique['trip_id'] == dfDropOffDim['dropoff_id'], \"inner\") \\\n",
    "               .join(dfDateTimeDimension, df_unique['trip_id'] == dfDateTimeDimension['datetime_id'], \"inner\") \\\n",
    "               .join(dfPayment, df_unique['trip_id'] == dfPayment['payment_id'], \"inner\") \\\n",
    "               .select(df_unique['trip_id'], 'VendorID', 'datetime_id', 'passenger_id', 'trip_distance_id',\n",
    "                       'rateCode_id', 'store_and_fwd_flag', 'pickup_id', 'dropoff_id',\n",
    "                       'payment_id', 'fare_amount', 'extra', 'mta_tax', 'tip_amount', 'tolls_amount',\n",
    "                       'improvement_surcharge', 'total_amount')\n",
    "\n",
    "# Show the resulting DataFrame\n",
    "fact_table.show(5)\n",
    "fact_table.count()"
   ]
  },
  {
   "cell_type": "markdown",
   "metadata": {
    "application/vnd.databricks.v1+cell": {
     "cellMetadata": {
      "byteLimit": 2048000,
      "rowLimit": 10000
     },
     "inputWidgets": {},
     "nuid": "f4cd8cf3-af9a-48d2-9fde-7c9061ab7148",
     "showTitle": false,
     "title": ""
    }
   },
   "source": [
    "Saving the dataframe as a csv file"
   ]
  },
  {
   "cell_type": "code",
   "execution_count": 0,
   "metadata": {
    "application/vnd.databricks.v1+cell": {
     "cellMetadata": {
      "byteLimit": 2048000,
      "rowLimit": 10000
     },
     "inputWidgets": {},
     "nuid": "dc8de8db-c2d0-4d87-832a-b9ed348f26ad",
     "showTitle": false,
     "title": ""
    }
   },
   "outputs": [],
   "source": [
    "# Saving the Passenger Dimension Table\n",
    "df_Passenger.write.format(\"csv\") \\\n",
    "  .option(\"sep\", \",\") \\\n",
    "  .option(\"header\", \"true\") \\\n",
    "  .option(\"mode\", \"overwrite\") \\\n",
    "  .save(\"dbfs:/FileStore/shared_uploads/gouravpratap.202cd006@nitk.edu.in/PassengerTable.csv\");\n",
    "\n",
    "# Saving the Trip Distance Dimension Table\n",
    "df_tripDistance.write.format(\"csv\") \\\n",
    "  .option(\"sep\", \",\") \\\n",
    "  .option(\"header\", \"true\") \\\n",
    "  .option(\"mode\", \"overwrite\") \\\n",
    "  .save(\"dbfs:/FileStore/shared_uploads/gouravpratap.202cd006@nitk.edu.in/TripDistanceTable.csv\");\n",
    "\n",
    " # Saving the rate Code Dimension Table\n",
    "dfRateCode.write.format(\"csv\") \\\n",
    "  .option(\"sep\", \",\") \\\n",
    "  .option(\"header\", \"true\") \\\n",
    "  .option(\"mode\", \"overwrite\") \\\n",
    "  .save(\"dbfs:/FileStore/shared_uploads/gouravpratap.202cd006@nitk.edu.in/RateCodeTable.csv\");\n",
    "\n",
    "# Saving the Pickup dimesion Table\n",
    "dfPickupDim.write.format(\"csv\") \\\n",
    "  .option(\"sep\", \",\") \\\n",
    "  .option(\"header\", \"true\") \\\n",
    "  .option(\"mode\", \"overwrite\") \\\n",
    "  .save(\"dbfs:/FileStore/shared_uploads/gouravpratap.202cd006@nitk.edu.in/PickUpTable.csv\");\n",
    "\n",
    "# Saving the Dropoff Dimension Table\n",
    "dfDropOffDim.write.format(\"csv\") \\\n",
    "  .option(\"sep\", \",\") \\\n",
    "  .option(\"header\", \"true\") \\\n",
    "  .option(\"mode\", \"overwrite\") \\\n",
    "  .save(\"dbfs:/FileStore/shared_uploads/gouravpratap.202cd006@nitk.edu.in/DropOffTable.csv\");\n",
    "\n",
    "# Saving the payment Dimension table\n",
    "dfPayment.write.format(\"csv\") \\\n",
    "  .option(\"sep\", \",\") \\\n",
    "  .option(\"header\", \"true\") \\\n",
    "  .option(\"mode\", \"overwrite\") \\\n",
    "  .save(\"dbfs:/FileStore/shared_uploads/gouravpratap.202cd006@nitk.edu.in/PaymentTable.csv\");\n",
    "\n",
    "# Saving the Date Time Dimension Table\n",
    "dfDateTimeDimension.write.format(\"csv\") \\\n",
    "  .option(\"sep\", \",\") \\\n",
    "  .option(\"header\", \"true\") \\\n",
    "  .option(\"mode\", \"overwrite\") \\\n",
    "  .save(\"dbfs:/FileStore/shared_uploads/gouravpratap.202cd006@nitk.edu.in/DateTimeTable.csv\");\n",
    "\n",
    "# Saving the Fact Table\n",
    "fact_table.write.format(\"csv\") \\\n",
    "  .option(\"sep\", \",\") \\\n",
    "  .option(\"header\", \"true\") \\\n",
    "  .option(\"mode\", \"overwrite\") \\\n",
    "  .save(\"dbfs:/FileStore/shared_uploads/gouravpratap.202cd006@nitk.edu.in/FactTable.csv\");"
   ]
  },
  {
   "cell_type": "markdown",
   "metadata": {
    "application/vnd.databricks.v1+cell": {
     "cellMetadata": {},
     "inputWidgets": {},
     "nuid": "71614021-d95b-4429-b8cb-31cf8be4b362",
     "showTitle": false,
     "title": ""
    }
   },
   "source": [
    "Checking the if the Tables got saved or not"
   ]
  },
  {
   "cell_type": "code",
   "execution_count": 0,
   "metadata": {
    "application/vnd.databricks.v1+cell": {
     "cellMetadata": {
      "byteLimit": 2048000,
      "rowLimit": 10000
     },
     "inputWidgets": {},
     "nuid": "fc7ad654-74fa-4b63-aebf-260a06285ecb",
     "showTitle": false,
     "title": ""
    }
   },
   "outputs": [
    {
     "output_type": "display_data",
     "data": {
      "text/html": [
       "<style scoped>\n",
       "  .table-result-container {\n",
       "    max-height: 300px;\n",
       "    overflow: auto;\n",
       "  }\n",
       "  table, th, td {\n",
       "    border: 1px solid black;\n",
       "    border-collapse: collapse;\n",
       "  }\n",
       "  th, td {\n",
       "    padding: 5px;\n",
       "  }\n",
       "  th {\n",
       "    text-align: left;\n",
       "  }\n",
       "</style><div class='table-result-container'><table class='table-result'><thead style='background-color: white'><tr><th>path</th><th>name</th><th>size</th><th>modificationTime</th></tr></thead><tbody><tr><td>dbfs:/FileStore/shared_uploads/gouravpratap.202cd006@nitk.edu.in/DateTimeTable.csv/</td><td>DateTimeTable.csv/</td><td>0</td><td>0</td></tr><tr><td>dbfs:/FileStore/shared_uploads/gouravpratap.202cd006@nitk.edu.in/DropOffTable.csv/</td><td>DropOffTable.csv/</td><td>0</td><td>0</td></tr><tr><td>dbfs:/FileStore/shared_uploads/gouravpratap.202cd006@nitk.edu.in/FactTable.csv/</td><td>FactTable.csv/</td><td>0</td><td>0</td></tr><tr><td>dbfs:/FileStore/shared_uploads/gouravpratap.202cd006@nitk.edu.in/PassengerTable.csv/</td><td>PassengerTable.csv/</td><td>0</td><td>0</td></tr><tr><td>dbfs:/FileStore/shared_uploads/gouravpratap.202cd006@nitk.edu.in/PaymentTable.csv/</td><td>PaymentTable.csv/</td><td>0</td><td>0</td></tr><tr><td>dbfs:/FileStore/shared_uploads/gouravpratap.202cd006@nitk.edu.in/PickUpTable.csv/</td><td>PickUpTable.csv/</td><td>0</td><td>0</td></tr><tr><td>dbfs:/FileStore/shared_uploads/gouravpratap.202cd006@nitk.edu.in/RateCodeTable.csv/</td><td>RateCodeTable.csv/</td><td>0</td><td>0</td></tr><tr><td>dbfs:/FileStore/shared_uploads/gouravpratap.202cd006@nitk.edu.in/TripDistanceTable.csv/</td><td>TripDistanceTable.csv/</td><td>0</td><td>0</td></tr><tr><td>dbfs:/FileStore/shared_uploads/gouravpratap.202cd006@nitk.edu.in/cab_data.csv</td><td>cab_data.csv</td><td>15824375</td><td>1712315110000</td></tr><tr><td>dbfs:/FileStore/shared_uploads/gouravpratap.202cd006@nitk.edu.in/uber_data-1.csv</td><td>uber_data-1.csv</td><td>15824375</td><td>1711556397000</td></tr><tr><td>dbfs:/FileStore/shared_uploads/gouravpratap.202cd006@nitk.edu.in/uber_data.csv</td><td>uber_data.csv</td><td>15824375</td><td>1711468870000</td></tr></tbody></table></div>"
      ]
     },
     "metadata": {
      "application/vnd.databricks.v1+output": {
       "addedWidgets": {},
       "aggData": [],
       "aggError": "",
       "aggOverflow": false,
       "aggSchema": [],
       "aggSeriesLimitReached": false,
       "aggType": "",
       "arguments": {},
       "columnCustomDisplayInfos": {},
       "data": [
        [
         "dbfs:/FileStore/shared_uploads/gouravpratap.202cd006@nitk.edu.in/DateTimeTable.csv/",
         "DateTimeTable.csv/",
         0,
         0
        ],
        [
         "dbfs:/FileStore/shared_uploads/gouravpratap.202cd006@nitk.edu.in/DropOffTable.csv/",
         "DropOffTable.csv/",
         0,
         0
        ],
        [
         "dbfs:/FileStore/shared_uploads/gouravpratap.202cd006@nitk.edu.in/FactTable.csv/",
         "FactTable.csv/",
         0,
         0
        ],
        [
         "dbfs:/FileStore/shared_uploads/gouravpratap.202cd006@nitk.edu.in/PassengerTable.csv/",
         "PassengerTable.csv/",
         0,
         0
        ],
        [
         "dbfs:/FileStore/shared_uploads/gouravpratap.202cd006@nitk.edu.in/PaymentTable.csv/",
         "PaymentTable.csv/",
         0,
         0
        ],
        [
         "dbfs:/FileStore/shared_uploads/gouravpratap.202cd006@nitk.edu.in/PickUpTable.csv/",
         "PickUpTable.csv/",
         0,
         0
        ],
        [
         "dbfs:/FileStore/shared_uploads/gouravpratap.202cd006@nitk.edu.in/RateCodeTable.csv/",
         "RateCodeTable.csv/",
         0,
         0
        ],
        [
         "dbfs:/FileStore/shared_uploads/gouravpratap.202cd006@nitk.edu.in/TripDistanceTable.csv/",
         "TripDistanceTable.csv/",
         0,
         0
        ],
        [
         "dbfs:/FileStore/shared_uploads/gouravpratap.202cd006@nitk.edu.in/cab_data.csv",
         "cab_data.csv",
         15824375,
         1712315110000
        ],
        [
         "dbfs:/FileStore/shared_uploads/gouravpratap.202cd006@nitk.edu.in/uber_data-1.csv",
         "uber_data-1.csv",
         15824375,
         1711556397000
        ],
        [
         "dbfs:/FileStore/shared_uploads/gouravpratap.202cd006@nitk.edu.in/uber_data.csv",
         "uber_data.csv",
         15824375,
         1711468870000
        ]
       ],
       "datasetInfos": [],
       "dbfsResultPath": null,
       "isJsonSchema": true,
       "metadata": {
        "isDbfsCommandResult": false
       },
       "overflow": false,
       "plotOptions": {
        "customPlotOptions": {},
        "displayType": "table",
        "pivotAggregation": null,
        "pivotColumns": null,
        "xColumns": null,
        "yColumns": null
       },
       "removedWidgets": [],
       "schema": [
        {
         "metadata": "{}",
         "name": "path",
         "type": "\"string\""
        },
        {
         "metadata": "{}",
         "name": "name",
         "type": "\"string\""
        },
        {
         "metadata": "{}",
         "name": "size",
         "type": "\"long\""
        },
        {
         "metadata": "{}",
         "name": "modificationTime",
         "type": "\"long\""
        }
       ],
       "type": "table"
      }
     },
     "output_type": "display_data"
    }
   ],
   "source": [
    "%fs ls dbfs:/FileStore/shared_uploads/gouravpratap.202cd006@nitk.edu.in"
   ]
  },
  {
   "cell_type": "markdown",
   "metadata": {
    "application/vnd.databricks.v1+cell": {
     "cellMetadata": {},
     "inputWidgets": {},
     "nuid": "4cd6a730-9216-49f4-9fb4-fa07e159e6db",
     "showTitle": false,
     "title": ""
    }
   },
   "source": [
    "Loading one of the tables to verify"
   ]
  },
  {
   "cell_type": "code",
   "execution_count": 0,
   "metadata": {
    "application/vnd.databricks.v1+cell": {
     "cellMetadata": {
      "byteLimit": 2048000,
      "rowLimit": 10000
     },
     "inputWidgets": {},
     "nuid": "05a6c92a-da7d-40f8-ba04-12a75626065e",
     "showTitle": false,
     "title": ""
    }
   },
   "outputs": [
    {
     "output_type": "stream",
     "name": "stdout",
     "output_type": "stream",
     "text": [
      "+-----------+--------------------+---------------------+-----------+------------+----------+-----------+-------------+-------------+------------+-------------+-----------+------------+--------------+--------------+\n|dateTime_id|tpep_pickup_datetime|tpep_dropoff_datetime|pickup_year|pickup_month|pickup_day|pickup_hour|pickup_minute|pickup_second|dropoff_year|dropoff_month|dropoff_day|dropoff_hour|dropoff_minute|dropoff_second|\n+-----------+--------------------+---------------------+-----------+------------+----------+-----------+-------------+-------------+------------+-------------+-----------+------------+--------------+--------------+\n|60129542144| 2016-03-01 00:00:31|  2016-03-01 00:13:00|       2016|           3|         1|         00|           00|           31|        2016|            3|          1|          00|            13|            00|\n|60129542145| 2016-03-10 07:07:54|  2016-03-10 07:17:08|       2016|           3|        10|         07|           07|           54|        2016|            3|         10|          07|            17|            08|\n|60129542146| 2016-03-10 07:08:09|  2016-03-10 07:22:47|       2016|           3|        10|         07|           08|           09|        2016|            3|         10|          07|            22|            47|\n|60129542147| 2016-03-10 07:09:21|  2016-03-10 07:20:24|       2016|           3|        10|         07|           09|           21|        2016|            3|         10|          07|            20|            24|\n|60129542148| 2016-03-10 07:09:32|  2016-03-10 07:21:20|       2016|           3|        10|         07|           09|           32|        2016|            3|         10|          07|            21|            20|\n+-----------+--------------------+---------------------+-----------+------------+----------+-----------+-------------+-------------+------------+-------------+-----------+------------+--------------+--------------+\nonly showing top 5 rows\n\n"
     ]
    }
   ],
   "source": [
    "df_Dummy = spark.read.format(\"csv\").option(\"header\", \"true\").load(\"dbfs:/FileStore/shared_uploads/gouravpratap.202cd006@nitk.edu.in/DateTimeTable.csv\")\n",
    "df_Dummy.show(5)"
   ]
  },
  {
   "cell_type": "code",
   "execution_count": 0,
   "metadata": {
    "application/vnd.databricks.v1+cell": {
     "cellMetadata": {
      "byteLimit": 2048000,
      "rowLimit": 10000
     },
     "inputWidgets": {},
     "nuid": "8f4b4152-78b6-4b2d-87a9-772a2fce1ad2",
     "showTitle": false,
     "title": ""
    }
   },
   "outputs": [],
   "source": []
  },
  {
   "cell_type": "code",
   "execution_count": 0,
   "metadata": {
    "application/vnd.databricks.v1+cell": {
     "cellMetadata": {
      "byteLimit": 2048000,
      "rowLimit": 10000
     },
     "inputWidgets": {},
     "nuid": "b5be8b65-750e-4f9a-a5b7-43e992b0779f",
     "showTitle": false,
     "title": ""
    }
   },
   "outputs": [],
   "source": []
  },
  {
   "cell_type": "code",
   "execution_count": 0,
   "metadata": {
    "application/vnd.databricks.v1+cell": {
     "cellMetadata": {
      "byteLimit": 2048000,
      "rowLimit": 10000
     },
     "inputWidgets": {},
     "nuid": "e9111b10-74f1-4f6a-86fe-227e7317fd28",
     "showTitle": false,
     "title": ""
    }
   },
   "outputs": [],
   "source": []
  },
  {
   "cell_type": "code",
   "execution_count": 0,
   "metadata": {
    "application/vnd.databricks.v1+cell": {
     "cellMetadata": {
      "byteLimit": 2048000,
      "rowLimit": 10000
     },
     "inputWidgets": {},
     "nuid": "52236a08-fbf4-4f64-8fa7-7ceb099e0123",
     "showTitle": false,
     "title": ""
    }
   },
   "outputs": [],
   "source": []
  },
  {
   "cell_type": "code",
   "execution_count": 0,
   "metadata": {
    "application/vnd.databricks.v1+cell": {
     "cellMetadata": {
      "byteLimit": 2048000,
      "rowLimit": 10000
     },
     "inputWidgets": {},
     "nuid": "9ab0ff77-3a31-4e5a-8834-5ccec74b7d45",
     "showTitle": false,
     "title": ""
    }
   },
   "outputs": [],
   "source": []
  },
  {
   "cell_type": "code",
   "execution_count": 0,
   "metadata": {
    "application/vnd.databricks.v1+cell": {
     "cellMetadata": {
      "byteLimit": 2048000,
      "rowLimit": 10000
     },
     "inputWidgets": {},
     "nuid": "c3aea127-dffe-4f98-af7a-c12d2f86bea8",
     "showTitle": false,
     "title": ""
    }
   },
   "outputs": [],
   "source": []
  },
  {
   "cell_type": "code",
   "execution_count": 0,
   "metadata": {
    "application/vnd.databricks.v1+cell": {
     "cellMetadata": {
      "byteLimit": 2048000,
      "rowLimit": 10000
     },
     "inputWidgets": {},
     "nuid": "960fd003-292f-4f4b-be6c-e2dda61da0cd",
     "showTitle": false,
     "title": ""
    }
   },
   "outputs": [],
   "source": []
  },
  {
   "cell_type": "code",
   "execution_count": 0,
   "metadata": {
    "application/vnd.databricks.v1+cell": {
     "cellMetadata": {
      "byteLimit": 2048000,
      "rowLimit": 10000
     },
     "inputWidgets": {},
     "nuid": "c37ae007-d96b-4af4-a087-7bfaf85e3354",
     "showTitle": false,
     "title": ""
    }
   },
   "outputs": [],
   "source": []
  }
 ],
 "metadata": {
  "application/vnd.databricks.v1+notebook": {
   "dashboards": [
    {
     "elements": [
      {
       "dashboardResultIndex": null,
       "elementNUID": "675ccae0-704d-4b83-b43e-7ca5e56fe248",
       "elementType": "command",
       "guid": "2a3056f7-2c10-4c9f-a201-bc897cfeeb0f",
       "options": null,
       "position": {
        "height": 1,
        "width": 12,
        "x": 0,
        "y": 0,
        "z": null
       },
       "resultIndex": null
      },
      {
       "dashboardResultIndex": null,
       "elementNUID": "7c6f7513-200d-4fd1-a21d-b980f65086ff",
       "elementType": "command",
       "guid": "3d2b7415-9ffc-4b06-a968-e0046212df52",
       "options": null,
       "position": {
        "height": 1,
        "width": 12,
        "x": 0,
        "y": 42,
        "z": null
       },
       "resultIndex": null
      },
      {
       "dashboardResultIndex": null,
       "elementNUID": "4e87721f-33cb-4b63-b580-73d08af0532a",
       "elementType": "command",
       "guid": "5489c42f-2673-4e2d-a7fd-c2c8156dd4ef",
       "options": null,
       "position": {
        "height": 2,
        "width": 12,
        "x": 0,
        "y": 54,
        "z": null
       },
       "resultIndex": null
      },
      {
       "dashboardResultIndex": null,
       "elementNUID": "ce2d5e14-b9b0-46ca-899f-470d59d33347",
       "elementType": "command",
       "guid": "9302f2fc-21df-494a-bfeb-27f7121bbc75",
       "options": null,
       "position": {
        "height": 1,
        "width": 12,
        "x": 0,
        "y": 6,
        "z": null
       },
       "resultIndex": null
      },
      {
       "dashboardResultIndex": null,
       "elementNUID": "df6eada4-ac1f-4912-8ed1-6c7e08e0d56d",
       "elementType": "command",
       "guid": "94b45e0c-22c6-40b6-942f-a009fe7b8f71",
       "options": null,
       "position": {
        "height": 1,
        "width": 12,
        "x": 0,
        "y": 48,
        "z": null
       },
       "resultIndex": null
      },
      {
       "dashboardResultIndex": null,
       "elementNUID": "e7e56755-a23f-4531-ae38-cbb92f3bd634",
       "elementType": "command",
       "guid": "ae35cddc-2a4f-4f65-9516-122f95de741d",
       "options": null,
       "position": {
        "height": 1,
        "width": 12,
        "x": 0,
        "y": 24,
        "z": null
       },
       "resultIndex": null
      },
      {
       "dashboardResultIndex": null,
       "elementNUID": "f7472fad-93df-4093-a29c-6fc4689178d5",
       "elementType": "command",
       "guid": "db0137fd-511c-4a19-82fd-4f59fc06f44a",
       "options": null,
       "position": {
        "height": 1,
        "width": 12,
        "x": 0,
        "y": 30,
        "z": null
       },
       "resultIndex": null
      },
      {
       "dashboardResultIndex": null,
       "elementNUID": "d9d0dda4-2201-461d-9ca8-141ae2ff113a",
       "elementType": "command",
       "guid": "dd09d96b-1100-4353-a426-4e7d079a3dce",
       "options": null,
       "position": {
        "height": 1,
        "width": 12,
        "x": 0,
        "y": 12,
        "z": null
       },
       "resultIndex": null
      },
      {
       "dashboardResultIndex": null,
       "elementNUID": "a242cc44-2d69-408d-938d-4894b9f9d397",
       "elementType": "command",
       "guid": "e859adca-23dc-4f79-876f-50825163b8da",
       "options": null,
       "position": {
        "height": 1,
        "width": 12,
        "x": 0,
        "y": 18,
        "z": null
       },
       "resultIndex": null
      },
      {
       "dashboardResultIndex": null,
       "elementNUID": "733fbbcd-bada-4f4d-a5ee-9f6605b05e1b",
       "elementType": "command",
       "guid": "f20d4dc7-a6c6-4ada-9f66-3bc0533b2fbc",
       "options": null,
       "position": {
        "height": 1,
        "width": 12,
        "x": 0,
        "y": 36,
        "z": null
       },
       "resultIndex": null
      }
     ],
     "globalVars": {},
     "guid": "",
     "layoutOption": {
      "grid": true,
      "stack": true
     },
     "nuid": "cb95db8f-9572-4aaf-ad20-127357b45e04",
     "origId": 1966214196118295,
     "title": "Untitled",
     "version": "DashboardViewV1",
     "width": 1024
    }
   ],
   "language": "python",
   "notebookMetadata": {
    "mostRecentlyExecutedCommandWithImplicitDF": {
     "commandId": 1443076283855401,
     "dataframes": [
      "_sqldf"
     ]
    },
    "pythonIndentUnit": 4
   },
   "notebookName": "Cab Data Analysis Project",
   "widgets": {}
  }
 },
 "nbformat": 4,
 "nbformat_minor": 0
}
